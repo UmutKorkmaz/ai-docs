{
 "cells": [
  {
   "cell_type": "markdown",
   "metadata": {},
   "source": [
    "# Customer Churn Prediction - Data Exploration\n",
    "\n",
    "This notebook explores the customer churn dataset, performs initial analysis, and prepares data for model training.\n",
    "\n",
    "## Learning Objectives\n",
    "\n",
    "- Load and inspect the dataset\n",
    "- Perform exploratory data analysis (EDA)\n",
    "- Identify patterns and relationships\n",
    "- Handle missing values and outliers\n",
    "- Create visualizations\n",
    "- Prepare data for preprocessing"
   ]
  },
  {
   "cell_type": "code",
   "execution_count": null,
   "metadata": {},
   "outputs": [],
   "source": [
    "# Import required libraries\n",
    "import pandas as pd\n",
    "import numpy as np\n",
    "import matplotlib.pyplot as plt\n",
    "import seaborn as sns\n",
    "import plotly.express as px\n",
    "import plotly.graph_objects as go\n",
    "from plotly.subplots import make_subplots\n",
    "\n",
    "# Set style\n",
    "plt.style.use('seaborn-v0_8')\n",
    "sns.set_palette('husl')\n",
    "\n",
    "# Display settings\n",
    "pd.set_option('display.max_columns', 50)\n",
    "pd.set_option('display.width', 1000)\n",
    "plt.rcParams['figure.figsize'] = (12, 8)\n",
    "plt.rcParams['font.size'] = 12\n",
    "\n",
    "# Import our custom modules\n",
    "import sys\n",
    "sys.path.append('../src')\n",
    "\n",
    "from data.preprocessing import ChurnDataPreprocessor, create_sample_dataset\n",
    "from utils.logging import get_logger\n",
    "\n",
    "logger = get_logger(__name__)\n",
    "\n",
    "print(\"Libraries imported successfully!\")"
   ]
  },
  {
   "cell_type": "markdown",
   "metadata": {},
   "source": [
    "## 1. Load and Inspect Data"
   ]
  },
  {
   "cell_type": "code",
   "execution_count": null,
   "metadata": {},
   "outputs": [],
   "source": [
    "# Create sample dataset if it doesn't exist\n",
    "import os\n",
    "if not os.path.exists('../data/raw/customer_churn.csv'):\n",
    "    print(\"Creating sample dataset...\")\n",
    "    sample_df = create_sample_dataset(5000, '../data/raw/customer_churn.csv')\n",
    "    print(f\"Sample dataset created with {len(sample_df)} rows\")\n",
    "else:\n",
    "    print(\"Dataset already exists\")\n",
    "\n",
    "# Load the dataset\n",
    "df = pd.read_csv('../data/raw/customer_churn.csv')\n",
    "\n",
    "print(f\"Dataset shape: {df.shape}\")\n",
    "print(f\"\\nDataset columns: {list(df.columns)}\")"
   ]
  },
  {
   "cell_type": "code",
   "execution_count": null,
   "metadata": {},
   "outputs": [],
   "source": [
    "# Display first few rows\n",
    "print(\"First 5 rows of the dataset:\")\n",
    "display(df.head())\n",
    "\n",
    "# Display dataset information\n",
    "print(\"\\nDataset information:\")\n",
    "display(df.info())"
   ]
  },
  {
   "cell_type": "code",
   "execution_count": null,
   "metadata": {},
   "outputs": [],
   "source": [
    "# Basic statistics\n",
    "print(\"Descriptive statistics:\")\n",
    "display(df.describe())\n",
    "\n",
    "# Check data types\n",
    "print(\"\\nData types:\")\n",
    "display(df.dtypes)"
   ]
  },
  {
   "cell_type": "markdown",
   "metadata": {},
   "source": [
    "## 2. Target Variable Analysis"
   ]
  },
  {
   "cell_type": "code",
   "execution_count": null,
   "metadata": {},
   "outputs": [],
   "source": [
    "# Analyze target variable (churn)\n",
    "churn_counts = df['churn'].value_counts()\n",
    "churn_percentage = df['churn'].value_counts(normalize=True) * 100\n",
    "\n",
    "print(\"Churn distribution:\")\n",
    "print(f\"No Churn (0): {churn_counts[0]} ({churn_percentage[0]:.1f}%)\")\n",
    "print(f\"Churn (1): {churn_counts[1]} ({churn_percentage[1]:.1f}%)\")\n",
    "\n",
    "# Visualize churn distribution\n",
    "fig, (ax1, ax2) = plt.subplots(1, 2, figsize=(15, 6))\n",
    "\n",
    "# Count plot\n",
    "sns.countplot(data=df, x='churn', ax=ax1)\n",
    "ax1.set_title('Churn Count Distribution')\n",
    "ax1.set_xlabel('Churn (0=No, 1=Yes)')\n",
    "ax1.set_ylabel('Count')\n",
    "\n",
    "# Pie chart\n",
    "ax2.pie(churn_counts, labels=['No Churn', 'Churn'], autopct='%1.1f%%', startangle=90)\n",
    "ax2.set_title('Churn Percentage Distribution')\n",
    "\n",
    "plt.tight_layout()\n",
    "plt.show()"
   ]
  },
  {
   "cell_type": "markdown",
   "metadata": {},
   "source": [
    "## 3. Missing Values Analysis"
   ]
  },
  {
   "cell_type": "code",
   "execution_count": null,
   "metadata": {},
   "outputs": [],
   "source": [
    "# Check for missing values\n",
    "missing_values = df.isnull().sum()\n",
    "missing_percentage = (missing_values / len(df)) * 100\n",
    "\n",
    "missing_info = pd.DataFrame({\n",
    "    'Count': missing_values,\n",
    "    'Percentage': missing_percentage\n",
    "})\n",
    "\n",
    "print(\"Missing values analysis:\")\n",
    "display(missing_info[missing_info['Count'] > 0].sort_values('Count', ascending=False))\n",
    "\n",
    "# Visualize missing values\n",
    "plt.figure(figsize=(12, 6))\n",
    "sns.heatmap(df.isnull(), cbar=False, yticklabels=False, cmap='viridis')\n",
    "plt.title('Missing Values Heatmap')\n",
    "plt.xlabel('Columns')\n",
    "plt.ylabel('Rows')\n",
    "plt.tight_layout()\n",
    "plt.show()"
   ]
  },
  {
   "cell_type": "markdown",
   "metadata": {},
   "source": [
    "## 4. Numerical Features Analysis"
   ]
  },
  {
   "cell_type": "code",
   "execution_count": null,
   "metadata": {},
   "outputs": [],
   "source": [
    "# Identify numerical features\n",
    "numerical_features = df.select_dtypes(include=[np.number]).columns.tolist()\n",
    "numerical_features = [col for col in numerical_features if col not in ['churn', 'senior_citizen']]\n",
    "\n",
    "print(f\"Numerical features: {numerical_features}\")\n",
    "\n",
    "# Plot distributions of numerical features\n",
    "fig, axes = plt.subplots(2, 2, figsize=(15, 10))\n",
    "axes = axes.flatten()\n",
    "\n",
    "for i, feature in enumerate(numerical_features[:4]):\n",
    "    sns.histplot(data=df, x=feature, hue='churn', kde=True, ax=axes[i])\n",
    "    axes[i].set_title(f'Distribution of {feature.replace(\"_\", \" \").title()}')\n",
    "    axes[i].legend(['No Churn', 'Churn'])\n",
    "\n",
    "plt.tight_layout()\n",
    "plt.show()"
   ]
  },
  {
   "cell_type": "code",
   "execution_count": null,
   "metadata": {},
   "outputs": [],
   "source": [
    "# Correlation analysis\n",
    "correlation_matrix = df[numerical_features + ['churn']].corr()\n",
    "\n",
    "plt.figure(figsize=(12, 8))\n",
    "sns.heatmap(correlation_matrix, annot=True, cmap='coolwarm', center=0, \n",
    "            square=True, linewidths=0.5)\n",
    "plt.title('Correlation Matrix of Numerical Features')\n",
    "plt.tight_layout()\n",
    "plt.show()\n",
    "\n",
    "print(\"Correlation with churn:\")\n",
    "churn_correlation = correlation_matrix['churn'].sort_values(ascending=False)\n",
    "display(churn_correlation)"
   ]
  },
  {
   "cell_type": "markdown",
   "metadata": {},
   "source": [
    "## 5. Categorical Features Analysis"
   ]
  },
  {
   "cell_type": "code",
   "execution_count": null,
   "metadata": {},
   "outputs": [],
   "source": [
    "# Identify categorical features\n",
    "categorical_features = df.select_dtypes(include=['object']).columns.tolist()\n",
    "\n",
    "print(f\"Categorical features: {categorical_features}\")\n",
    "\n",
    "# Plot categorical features\n",
    "fig, axes = plt.subplots(2, 2, figsize=(15, 10))\n",
    "axes = axes.flatten()\n",
    "\n",
    "for i, feature in enumerate(categorical_features[:4]):\n",
    "    sns.countplot(data=df, x=feature, hue='churn', ax=axes[i])\n",
    "    axes[i].set_title(f'{feature.replace(\"_\", \" \").title()} by Churn')\n",
    "    axes[i].tick_params(axis='x', rotation=45)\n",
    "    axes[i].legend(['No Churn', 'Churn'])\n",
    "\n",
    "plt.tight_layout()\n",
    "plt.show()"
   ]
  },
  {
   "cell_type": "code",
   "execution_count": null,
   "metadata": {},
   "outputs": [],
   "source": [
    "# Churn rate by categorical features\n",
    "for feature in categorical_features[:3]:\n",
    "    churn_rate = df.groupby(feature)['churn'].mean().sort_values(ascending=False)\n",
    "    \n",
    "    plt.figure(figsize=(10, 6))\n",
    "    sns.barplot(x=churn_rate.index, y=churn_rate.values)\n",
    "    plt.title(f'Churn Rate by {feature.replace(\"_\", \" \").title()}')\n",
    "    plt.ylabel('Churn Rate')\n",
    "    plt.xticks(rotation=45)\n",
    "    \n",
    "    # Add percentage labels\n",
    "    for i, rate in enumerate(churn_rate):\n",
    "        plt.text(i, rate + 0.01, f'{rate:.1%}', ha='center', va='bottom')\n",
    "    \n",
    "    plt.tight_layout()\n",
    "    plt.show()"
   ]
  },
  {
   "cell_type": "markdown",
   "metadata": {},
   "source": [
    "## 6. Advanced Analysis"
   ]
  },
  {
   "cell_type": "code",
   "execution_count": null,
   "metadata": {},
   "outputs": [],
   "source": [
    "# Age vs Tenure analysis\n",
    "plt.figure(figsize=(12, 8))\n",
    "sns.scatterplot(data=df, x='age', y='tenure', hue='churn', size='monthly_charges', \n",
    "                alpha=0.7, sizes=(20, 200))\n",
    "plt.title('Age vs Tenure colored by Churn')\n",
    "plt.xlabel('Age')\n",
    "plt.ylabel('Tenure (months)')\n",
    "plt.legend(title='Churn')\n",
    "plt.tight_layout()\n",
    "plt.show()"
   ]
  },
  {
   "cell_type": "code",
   "execution_count": null,
   "metadata": {},
   "outputs": [],
   "source": [
    "# Monthly charges vs Total charges\n",
    "plt.figure(figsize=(12, 8))\n",
    "sns.scatterplot(data=df, x='monthly_charges', y='total_charges', hue='churn', \n",
    "                style='contract_type', alpha=0.7)\n",
    "plt.title('Monthly Charges vs Total Charges')\n",
    "plt.xlabel('Monthly Charges ($)')\n",
    "plt.ylabel('Total Charges ($)')\n",
    "plt.legend(title='Churn / Contract')\n",
    "plt.tight_layout()\n",
    "plt.show()"
   ]
  },
  {
   "cell_type": "code",
   "execution_count": null,
   "metadata": {},
   "outputs": [],
   "source": [
    "# Service usage analysis\n",
    "service_features = ['phone_service', 'online_security', 'tech_support']\n",
    "\n",
    "fig, axes = plt.subplots(1, 3, figsize=(18, 6))\n",
    "\n",
    "for i, feature in enumerate(service_features):\n",
    "    if feature in df.columns:\n",
    "        # Convert to categorical for better visualization\n",
    "        df[feature] = df[feature].astype(str)\n",
    "        \n",
    "        sns.countplot(data=df, x=feature, hue='churn', ax=axes[i])\n",
    "        axes[i].set_title(f'{feature.replace(\"_\", \" \").title()}')\n",
    "        axes[i].set_ylabel('Count')\n",
    "        \n",
    "        # Calculate and display churn rate\n",
    "        churn_rate = df.groupby(feature)['churn'].mean()\n",
    "        for j, (category, rate) in enumerate(churn_rate.items()):\n",
    "            axes[i].text(j, df[feature].value_counts()[category] * 0.9, \n",
    "                        f'{rate:.1%}', ha='center', va='top', fontweight='bold')\n",
    "\n",
    "plt.tight_layout()\n",
    "plt.show()"
   ]
  },
  {
   "cell_type": "markdown",
   "metadata": {},
   "source": [
    "## 7. Outlier Detection"
   ]
  },
  {
   "cell_type": "code",
   "execution_count": null,
   "metadata": {},
   "outputs": [],
   "source": [
    "# Box plots for outlier detection\n",
    "fig, axes = plt.subplots(2, 2, figsize=(15, 10))\n",
    "axes = axes.flatten()\n",
    "\n",
    "for i, feature in enumerate(numerical_features[:4]):\n",
    "    sns.boxplot(data=df, y=feature, ax=axes[i])\n",
    "    axes[i].set_title(f'Box Plot of {feature.replace(\"_\", \" \").title()}')\n",
    "\n",
    "plt.tight_layout()\n",
    "plt.show()\n",
    "\n",
    "# Function to detect outliers using IQR method\n",
    "def detect_outliers_iqr(df, feature):\n",
    "    Q1 = df[feature].quantile(0.25)\n",
    "    Q3 = df[feature].quantile(0.75)\n",
    "    IQR = Q3 - Q1\n",
    "    lower_bound = Q1 - 1.5 * IQR\n",
    "    upper_bound = Q3 + 1.5 * IQR\n",
    "    \n",
    "    outliers = df[(df[feature] < lower_bound) | (df[feature] > upper_bound)]\n",
    "    return outliers, lower_bound, upper_bound\n",
    "\n",
    "# Check outliers for each numerical feature\n",
    "print(\"Outlier Analysis:\")\n",
    "for feature in numerical_features:\n",
    "    outliers, lower, upper = detect_outliers_iqr(df, feature)\n",
    "    outlier_count = len(outliers)\n",
    "    outlier_percentage = (outlier_count / len(df)) * 100\n",
    "    \n",
    "    print(f\"\\n{feature}:\")\n",
    "    print(f\"  Outliers: {outlier_count} ({outlier_percentage:.2f}%)\")\n",
    "    print(f\"  Range: [{lower:.2f}, {upper:.2f}]\")"
   ]
  },
  {
   "cell_type": "markdown",
   "metadata": {},
   "source": [
    "## 8. Feature Relationships"
   ]
  },
  {
   "cell_type": "code",
   "execution_count": null,
   "metadata": {},
   "outputs": [],
   "source": [
    "# Pair plot for key features\n",
    "key_features = ['age', 'tenure', 'monthly_charges', 'total_charges', 'churn']\n",
    "\n",
    "plt.figure(figsize=(15, 15))\n",
    "sns.pairplot(df[key_features], hue='churn', diag_kind='kde', \n",
    "             plot_kws={'alpha': 0.6}, corner=True)\n",
    "plt.suptitle('Pair Plot of Key Features', y=1.02)\n",
    "plt.tight_layout()\n",
    "plt.show()"
   ]
  },
  {
   "cell_type": "code",
   "execution_count": null,
   "metadata": {},
   "outputs": [],
   "source": [
    "# Advanced: Create interaction features\n",
    "df['monthly_to_total_ratio'] = df['monthly_charges'] / (df['total_charges'] + 1)\n",
    "df['tenure_to_age_ratio'] = df['tenure'] / (df['age'] + 1)\n",
    "df['services_count'] = df[['phone_service', 'online_security', 'tech_support']].sum(axis=1)\n",
    "\n",
    "# Plot new features\n",
    "fig, axes = plt.subplots(1, 3, figsize=(18, 6))\n",
    "\n",
    "new_features = ['monthly_to_total_ratio', 'tenure_to_age_ratio', 'services_count']\n",
    "\n",
    "for i, feature in enumerate(new_features):\n",
    "    sns.boxplot(data=df, x='churn', y=feature, ax=axes[i])\n",
    "    axes[i].set_title(f'{feature.replace(\"_\", \" \").title()} by Churn')\n",
    "    axes[i].set_xlabel('Churn (0=No, 1=Yes)')\n",
    "\n",
    "plt.tight_layout()\n",
    "plt.show()"
   ]
  },
  {
   "cell_type": "markdown",
   "metadata": {},
   "source": [
    "## 9. Data Quality Assessment"
   ]
  },
  {
   "cell_type": "code",
   "execution_count": null,
   "metadata": {},
   "outputs": [],
   "source": [
    "# Data quality report\n",
    "def data_quality_report(df):\n",
    "    report = {}\n",
    "    \n",
    "    # Basic information\n",
    "    report['shape'] = df.shape\n",
    "    report['columns'] = list(df.columns)\n",
    "    \n",
    "    # Data types\n",
    "    report['data_types'] = df.dtypes.value_counts().to_dict()\n",
    "    \n",
    "    # Missing values\n",
    "    missing = df.isnull().sum()\n",
    "    report['missing_values'] = {\n",
    "        'total_missing': missing.sum(),\n",
    "        'columns_with_missing': missing[missing > 0].to_dict()\n",
    "    }\n",
    "    \n",
    "    # Duplicates\n",
    "    report['duplicates'] = df.duplicated().sum()\n",
    "    \n",
    "    # Unique values\n",
    "    report['unique_values'] = df.nunique().to_dict()\n",
    "    \n",
    "    # Memory usage\n",
    "    report['memory_usage'] = df.memory_usage(deep=True).sum()\n",
    "    \n",
    "    return report\n",
    "\n",
    "quality_report = data_quality_report(df)\n",
    "\n",
    "print(\"Data Quality Report:\")\n",
    "print(f\"Dataset shape: {quality_report['shape']}\")\n",
    "print(f\"Total missing values: {quality_report['missing_values']['total_missing']}\")\n",
    "print(f\"Duplicate rows: {quality_report['duplicates']}\")\n",
    "print(f\"Memory usage: {quality_report['memory_usage'] / 1024 / 1024:.2f} MB\")\n",
    "\n",
    "if quality_report['missing_values']['columns_with_missing']:\n",
    "    print(\"\\nColumns with missing values:\")\n",
    "    for col, count in quality_report['missing_values']['columns_with_missing'].items():\n",
    "        print(f\"  {col}: {count} missing\")\n",
    "\n",
    "print(\"\\nUnique values per column:\")\n",
    "for col, unique_count in quality_report['unique_values'].items():\n",
    "    print(f\"  {col}: {unique_count} unique values\")"
   ]
  },
  {
   "cell_type": "markdown",
   "metadata": {},
   "source": [
    "## 10. Summary and Insights"
   ]
  },
  {
   "cell_type": "code",
   "execution_count": null,
   "metadata": {},
   "outputs": [],
   "source": [
    "# Key insights summary\n",
    "insights = [\n",
    "    \"1. Dataset contains {} customers with {} features\".format(*df.shape),\n",
    "    \"2. Churn rate is {:.1f}%\".format(df['churn'].mean() * 100),\n",
    "    \"3. Key features correlated with churn:\",\n",
    "    \"   - Tenure (negative correlation)\",\n",
    "    \"   - Monthly charges (positive correlation)\",\n",
    "    \"   - Contract type (month-to-month has higher churn)\",\n",
    "    \"   - Age (younger customers churn more)\",\n",
    "    \"4. Data quality is good with minimal missing values\",\n",
    "    \"5. Some outliers detected in numerical features\",\n",
    "    \"6. Interaction features show promising patterns\"\n",
    "]\n",
    "\n",
    "print(\"Key Insights:\")\n",
    "for insight in insights:\n",
    "    print(insight)\n",
    "\n",
    "# Recommendations for modeling\n",
    "recommendations = [\n",
    "    \"1. Handle outliers in numerical features\",\n",
    "    \"2. Create more interaction features\",\n",
    "    \"3. Consider feature scaling for distance-based algorithms\",\n",
    "    \"4. Use ensemble methods to capture complex patterns\",\n",
    "    \"5. Address class imbalance if present\",\n",
    "    \"6. Perform feature selection to reduce dimensionality\"\n",
    "]\n",
    "\n",
    "print(\"\\nRecommendations:\")\n",
    "for rec in recommendations:\n",
    "    print(rec)"
   ]
  },
  {
   "cell_type": "markdown",
   "metadata": {},
   "source": [
    "## 11. Save Processed Data\n",
    "\n",
    "Let's save a cleaned version of our data for the next steps."
   ]
  },
  {
   "cell_type": "code",
   "execution_count": null,
   "metadata": {},
   "outputs": [],
   "source": [
    "# Clean the data\n",
    "df_clean = df.copy()\n",
    "\n",
    "# Handle missing values (simple imputation)\n",
    "for col in numerical_features:\n",
    "    if df_clean[col].isnull().any():\n",
    "        median_val = df_clean[col].median()\n",
    "        df_clean[col].fillna(median_val, inplace=True)\n",
    "\n",
    "for col in categorical_features:\n",
    "    if df_clean[col].isnull().any():\n",
    "        mode_val = df_clean[col].mode()[0]\n",
    "        df_clean[col].fillna(mode_val, inplace=True)\n",
    "\n",
    "# Handle outliers (capping)\n",
    "for col in numerical_features:\n",
    "    Q1 = df_clean[col].quantile(0.25)\n",
    "    Q3 = df_clean[col].quantile(0.75)\n",
    "    IQR = Q3 - Q1\n",
    "    lower_bound = Q1 - 1.5 * IQR\n",
    "    upper_bound = Q3 + 1.5 * IQR\n",
    "    \n",
    "    df_clean[col] = df_clean[col].clip(lower_bound, upper_bound)\n",
    "\n",
    "# Save cleaned data\n",
    "output_path = '../data/processed/customer_churn_cleaned.csv'\n",
    "df_clean.to_csv(output_path, index=False)\n",
    "\n",
    "print(f\"Cleaned data saved to: {output_path}\")\n",
    "print(f\"Final dataset shape: {df_clean.shape}\")\n",
    "print(f\"Missing values remaining: {df_clean.isnull().sum().sum()}\")"
   ]
  },
  {
   "cell_type": "markdown",
   "metadata": {},
   "source": [
    "## 12. Next Steps\n",
    "\n",
    "This data exploration provides a solid foundation for the next phases:\n",
    "\n",
    "1. **Feature Engineering**: Create more sophisticated features based on patterns discovered\n",
    "2. **Data Preprocessing**: Scale features, handle categorical variables, split data\n",
    "3. **Model Training**: Train and evaluate different ML algorithms\n",
    "4. **Model Evaluation**: Compare performance and select best model\n",
    "5. **Model Deployment**: Create API for predictions\n",
    "\n",
    "The insights gained from this exploration will guide feature engineering and model selection decisions."
   ]
  }
 ],
 "metadata": {
  "kernelspec": {
   "display_name": "Python 3",
   "language": "python",
   "name": "python3"
  },
  "language_info": {
   "codemirror_mode": {
    "name": "ipython",
    "version": 3
   },
   "file_extension": ".py",
   "mimetype": "text/x-python",
   "name": "python",
   "nbconvert_exporter": "python",
   "pygments_lexer": "ipython3",
   "version": "3.9.0"
  }
 },
 "nbformat": 4,
 "nbformat_minor": 4
}